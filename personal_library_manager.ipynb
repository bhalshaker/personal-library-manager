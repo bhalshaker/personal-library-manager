{
 "cells": [
  {
   "cell_type": "markdown",
   "metadata": {},
   "source": [
    "# Install external third party libraries"
   ]
  },
  {
   "cell_type": "code",
   "execution_count": 8,
   "metadata": {},
   "outputs": [
    {
     "name": "stdout",
     "output_type": "stream",
     "text": [
      "\u001b[31mERROR: Could not find a version that satisfies the requirement olorama==0.4.6 (from versions: none)\u001b[0m\u001b[31m\n",
      "\u001b[0m\u001b[31mERROR: No matching distribution found for olorama==0.4.6\u001b[0m\u001b[31m\n",
      "\u001b[0mNote: you may need to restart the kernel to use updated packages.\n"
     ]
    }
   ],
   "source": [
    "%pip install -r requirements.txt"
   ]
  },
  {
   "cell_type": "markdown",
   "metadata": {},
   "source": [
    "# import required libraries for this application to run"
   ]
  },
  {
   "cell_type": "code",
   "execution_count": 9,
   "metadata": {},
   "outputs": [],
   "source": [
    "import csv\n",
    "import os\n",
    "import enum\n",
    "from colorama import Fore, Style"
   ]
  },
  {
   "cell_type": "markdown",
   "metadata": {},
   "source": [
    "# Define MenuChoice and ListType Enum. Enums were used to improve code readability."
   ]
  },
  {
   "cell_type": "code",
   "execution_count": 10,
   "metadata": {},
   "outputs": [],
   "source": [
    "class MenuChoice(enum.Enum):\n",
    "    ADD= 'a'\n",
    "    LIST='l'\n",
    "    REVIEW='r'\n",
    "    SEARCH='s'\n",
    "    QUIT = 'q'\n",
    "class ListType(enum.Enum):\n",
    "    BOOKS='books'\n",
    "    REVIEWS='reviews'"
   ]
  },
  {
   "cell_type": "markdown",
   "metadata": {},
   "source": [
    "# Define Book class\n",
    "## Override __int__ default class constructor and __str__ print value\n",
    "## Add setters and getters for attributes"
   ]
  },
  {
   "cell_type": "code",
   "execution_count": 11,
   "metadata": {},
   "outputs": [],
   "source": [
    "class Book():\n",
    "    def __init__(self,title:str,author:str):\n",
    "        self.title=title\n",
    "        self.author=author\n",
    "    def get_title(self)->str:\n",
    "        return self.title\n",
    "    def set_title(self,title):\n",
    "        self.title=title\n",
    "    def get_author(self)->str:\n",
    "        return self.author\n",
    "    def set_author(self,author):\n",
    "        self.author=author\n",
    "    def __str__(self):\n",
    "        return f\"{self.get_title()} by {self.get_author()}\""
   ]
  },
  {
   "cell_type": "markdown",
   "metadata": {},
   "source": [
    "# Define Review class\n",
    "## Override __int__ default class constructor and __str__ print value\n",
    "## Add setters and getters for attributes"
   ]
  },
  {
   "cell_type": "code",
   "execution_count": 12,
   "metadata": {},
   "outputs": [],
   "source": [
    "class Review():\n",
    "    def __init__(self,title:str,review:str):\n",
    "        self.title=title\n",
    "        self.review=review\n",
    "    def get_title(self)->str:\n",
    "        return self.title\n",
    "    def set_title(self,title):\n",
    "        self.title=title\n",
    "    def get_review(self)->str:\n",
    "        return self.review\n",
    "    def set_review(self,review):\n",
    "        self.review=review\n",
    "    def __str__(self):\n",
    "        return f\"\"\"\n",
    "Title: {self.get_title()}\n",
    "Review: {self.get_review()}\n",
    "\"\"\""
   ]
  },
  {
   "cell_type": "markdown",
   "metadata": {},
   "source": [
    "# This is the Controller Class  it interacts with the user and stores reviews and books datalist in memory"
   ]
  },
  {
   "cell_type": "code",
   "execution_count": 13,
   "metadata": {},
   "outputs": [],
   "source": [
    "class Controller():\n",
    "    books_list=[]\n",
    "    reviews_list=[]\n",
    "    def catch_avalid_menu_input(input_messege,validation_list)->str:\n",
    "        catched_input=None\n",
    "        while catched_input==None or catched_input not in validation_list:\n",
    "            catched_input=input(input_messege)\n",
    "            if catched_input not in validation_list:\n",
    "                print(f'Please enter a valid value it should be one of the following {validation_list} ...')\n",
    "        return catched_input\n",
    "    def catch_avalid_input(input_messege)->str:\n",
    "        catched_input=None\n",
    "        while catched_input==None or catched_input =='':\n",
    "            catched_input=input(input_messege)\n",
    "            if catched_input =='':\n",
    "                print(f'Not value has been entered try again ...')\n",
    "        return catched_input\n",
    "    def add_a_new_book(title,author):\n",
    "        new_book=Book(title,author)\n",
    "        Controller.books_list.append(new_book)\n",
    "        print(f'You have added {new_book} successfully ...')\n",
    "    def add_a_new_book_screen():\n",
    "        title=Controller.catch_avalid_input(\"Title: \")\n",
    "        author=Controller.catch_avalid_input(\"Author: \")\n",
    "        Controller.add_a_new_book(title,author)\n",
    "    def add_a_new_review(title,review):\n",
    "        new_review=Review(title,review)\n",
    "        Controller.reviews_list.append(new_review)\n",
    "        print(f'Your new review entry is {new_review}')\n",
    "    def add_a_new_review_screen():\n",
    "        title=Controller.catch_avalid_input(\"Title: \")\n",
    "        review=Controller.catch_avalid_input(\"Review: \")\n",
    "        Controller.add_a_new_review(title,review)\n",
    "    def list_all_books():\n",
    "        print(f'Three are {len(Controller.books_list)} books registered in the applications ...')\n",
    "        count=0\n",
    "        for book in Controller.books_list:\n",
    "            count+=1\n",
    "            print(f'{str(count)}. {book}')\n",
    "    def search_for_a_book_by_title(title):\n",
    "        matched_books=[]\n",
    "        for book in Controller.books_list:\n",
    "            if book.get_title()==title:\n",
    "                matched_books.append(book)\n",
    "        print(f'Number of matched books with title ({title} is {str(len(matched_books))})')\n",
    "        if len(matched_books)>0:\n",
    "            for book in matched_books:\n",
    "                print(book)\n",
    "                print('-----------------------------------------------------')\n",
    "\n",
    "    def search_for_a_book_by_author(author):\n",
    "        matched_books=[]\n",
    "        for book in Controller.books_list:\n",
    "            if book.get_author()==author:\n",
    "                matched_books.append(book)\n",
    "        print(f'Number of matched books by author ({author} is {str(len(matched_books))})')\n",
    "        if len(matched_books)>0:\n",
    "            for book in matched_books:\n",
    "                print(book)\n",
    "                print('-----------------------------------------------------')\n",
    "\n",
    "    \n",
    "    def search_for_a_book_screen():\n",
    "        menu=\"\"\"\n",
    "        You can search for a book by either book or title select the relievent search filed by choosing\n",
    "        the right correspondent key\n",
    "        a- Search by author.\n",
    "        t- Search by title.\n",
    "        \"\"\"\n",
    "        menu_choice=Controller.catch_avalid_menu_input(menu,['a','t'])\n",
    "        match menu_choice:\n",
    "            case 'a':\n",
    "                author=Controller.catch_avalid_input(\"Author: \")\n",
    "                Controller.search_for_a_book_by_author(author)\n",
    "            case 't':\n",
    "                title=Controller.catch_avalid_input(\"Title: \")\n",
    "                Controller.search_for_a_book_by_title(title)\n",
    "\n",
    "\n",
    "    def create_csv_if_not_created(csv_path:str,filednames):\n",
    "        if not os.path.exists(csv_path):\n",
    "           with open(csv_path, \"w\") as file:\n",
    "                writer = csv.DictWriter(file, fieldnames=filednames)\n",
    "                writer.writeheader()\n",
    "    def load_data_from_csv_to_list(csv_path:str,list_type:str):\n",
    "        with open(csv_path, 'r') as file:\n",
    "            csv_reader = csv.reader(file)\n",
    "            next(csv_reader)\n",
    "            for row in csv_reader:\n",
    "                match list_type:\n",
    "                    case 'books':\n",
    "                        Controller.books_list.append(Book(row[0],row[1]))\n",
    "                    case 'reviews':\n",
    "                        Controller.reviews_list.append(Review(row[0],row[1]))\n",
    "    def print_app_title(app_version:str)->None:\n",
    "        app_title=\"\"\"\n",
    "______                                      _   _      _  _                               ___  ___                                                           _   \n",
    "| ___ \\                                    | | | |    (_)| |                              |  \\/  |                                                          | |  \n",
    "| |_/ /___  _ __  ___   ___   _ __    __ _ | | | |     _ | |__   _ __  __ _  _ __  _   _  | .  . |  __ _  _ __    __ _   __ _   ___  _ __ ___    ___  _ __  | |_ \n",
    "|  __// _ \\| '__|/ __| / _ \\ | '_ \\  / _` || | | |    | || '_ \\ | '__|/ _` || '__|| | | | | |\\/| | / _` || '_ \\  / _` | / _` | / _ \\| '_ ` _ \\  / _ \\| '_ \\ | __|\n",
    "| |  |  __/| |   \\__ \\| (_) || | | || (_| || | | |____| || |_) || |  | (_| || |   | |_| | | |  | || (_| || | | || (_| || (_| ||  __/| | | | | ||  __/| | | || |_ \n",
    "\\_|   \\___||_|   |___/ \\___/ |_| |_| \\__,_||_| \\_____/|_||_.__/ |_|   \\__,_||_|    \\__, | \\_|  |_/ \\__,_||_| |_| \\__,_| \\__, | \\___||_| |_| |_| \\___||_| |_| \\__|\n",
    "                                                                                    __/ |                                __/ |                                   \n",
    "                                                                                   |___/                                |___/                                    \n",
    "\"\"\"\n",
    "        print(Fore.BLUE + app_title + Style.RESET_ALL)\n",
    "        print(Fore.LIGHTRED_EX + app_version+ Style.RESET_ALL) \n",
    "    def load_data_from_list_to_csv(csv_path,fieldnames,list_type):\n",
    "        with open(csv_path, 'w') as file:\n",
    "            writer = csv.DictWriter(file, fieldnames=fieldnames)\n",
    "            writer.writeheader()\n",
    "            if list_type=='books':\n",
    "                for book in Controller.books_list:\n",
    "                    writer.writerow(book.__dict__)\n",
    "            elif list_type=='reviews':\n",
    "                for review in Controller.reviews_list:\n",
    "                    writer.writerow(review.__dict__)"
   ]
  },
  {
   "cell_type": "markdown",
   "metadata": {},
   "source": [
    "# This is the main logic for running the code."
   ]
  },
  {
   "cell_type": "code",
   "execution_count": 14,
   "metadata": {},
   "outputs": [
    {
     "name": "stdout",
     "output_type": "stream",
     "text": [
      "\u001b[34m\n",
      "______                                      _   _      _  _                               ___  ___                                                           _   \n",
      "| ___ \\                                    | | | |    (_)| |                              |  \\/  |                                                          | |  \n",
      "| |_/ /___  _ __  ___   ___   _ __    __ _ | | | |     _ | |__   _ __  __ _  _ __  _   _  | .  . |  __ _  _ __    __ _   __ _   ___  _ __ ___    ___  _ __  | |_ \n",
      "|  __// _ \\| '__|/ __| / _ \\ | '_ \\  / _` || | | |    | || '_ \\ | '__|/ _` || '__|| | | | | |\\/| | / _` || '_ \\  / _` | / _` | / _ \\| '_ ` _ \\  / _ \\| '_ \\ | __|\n",
      "| |  |  __/| |   \\__ \\| (_) || | | || (_| || | | |____| || |_) || |  | (_| || |   | |_| | | |  | || (_| || | | || (_| || (_| ||  __/| | | | | ||  __/| | | || |_ \n",
      "\\_|   \\___||_|   |___/ \\___/ |_| |_| \\__,_||_| \\_____/|_||_.__/ |_|   \\__,_||_|    \\__, | \\_|  |_/ \\__,_||_| |_| \\__,_| \\__, | \\___||_| |_| |_| \\___||_| |_| \\__|\n",
      "                                                                                    __/ |                                __/ |                                   \n",
      "                                                                                   |___/                                |___/                                    \n",
      "\u001b[0m\n",
      "\u001b[91mVersion 1.0\u001b[0m\n",
      "Number of matched books by author (Jennifer Egan is 1)\n",
      "The Candy House by Jennifer Egan\n",
      "-----------------------------------------------------\n",
      " is not a valid parameter please enter a valid choice ...\n"
     ]
    }
   ],
   "source": [
    "Controller.print_app_title(\"Version 1.0\")\n",
    "books_csv='books.csv'\n",
    "reviews_csv='reviews.csv'\n",
    "books_csv_header=[\"title\",\"author\"]\n",
    "reviews_csv_header=[\"title\",\"review\"]\n",
    "menu=\"\"\"\n",
    "    Select one of the following by pressing the corresponding key:\n",
    "    a - Add a new book.\n",
    "    l - List all books.\n",
    "    r - To review a book.\n",
    "    s - Search for a book by title or author.\n",
    "    q - Safely quit the application.\n",
    "    \"\"\"\n",
    "Controller.create_csv_if_not_created(books_csv,books_csv_header)\n",
    "Controller.create_csv_if_not_created(reviews_csv,reviews_csv_header)\n",
    "Controller.load_data_from_csv_to_list(books_csv,'books')\n",
    "Controller.load_data_from_csv_to_list(reviews_csv,'reviews')\n",
    "while True:\n",
    "    choice=input(menu)\n",
    "    match choice:\n",
    "        case MenuChoice.ADD.value:\n",
    "            # Start add a new book menu\n",
    "            Controller.add_a_new_book_screen()\n",
    "        case MenuChoice.LIST.value:\n",
    "            # Print all list saved in memory\n",
    "            Controller.list_all_books()\n",
    "        case MenuChoice.REVIEW.value:\n",
    "            # Start add a review menus\n",
    "            Controller.add_a_new_review_screen()\n",
    "        case MenuChoice.SEARCH.value:\n",
    "            # Start search of the book menu\n",
    "            Controller.search_for_a_book_screen()\n",
    "        case MenuChoice.QUIT.value:\n",
    "            # Save changes\n",
    "            Controller.load_data_from_list_to_csv(books_csv,books_csv_header,ListType.BOOKS.value)\n",
    "            Controller.load_data_from_list_to_csv(reviews_csv,reviews_csv_header,ListType.REVIEWS.value)\n",
    "            # Exist the loop i.e stop the application\n",
    "            break\n",
    "        case _:\n",
    "            # Let the user know that input is not valid\n",
    "            print(f\"{choice} is not a valid parameter please enter a valid choice ...\")"
   ]
  }
 ],
 "metadata": {
  "kernelspec": {
   "display_name": "ga-env",
   "language": "python",
   "name": "python3"
  },
  "language_info": {
   "codemirror_mode": {
    "name": "ipython",
    "version": 3
   },
   "file_extension": ".py",
   "mimetype": "text/x-python",
   "name": "python",
   "nbconvert_exporter": "python",
   "pygments_lexer": "ipython3",
   "version": "3.11.11"
  }
 },
 "nbformat": 4,
 "nbformat_minor": 2
}

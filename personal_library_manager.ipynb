{
 "cells": [
  {
   "cell_type": "markdown",
   "metadata": {},
   "source": [
    "Colorama library will be used in this application to color the startup message"
   ]
  },
  {
   "cell_type": "code",
   "execution_count": null,
   "metadata": {},
   "outputs": [],
   "source": [
    "%pip install colorama"
   ]
  },
  {
   "cell_type": "code",
   "execution_count": 1,
   "metadata": {},
   "outputs": [],
   "source": [
    "import csv\n",
    "from colorama import Fore, Style"
   ]
  },
  {
   "cell_type": "code",
   "execution_count": null,
   "metadata": {},
   "outputs": [],
   "source": [
    "class Book:\n",
    "    all_books=[]\n",
    "    def __init__(self,title,author,review=[]):\n",
    "        self.title=title\n",
    "        self.author=author\n",
    "        self.review=review\n",
    "    def add_book(self,title,author):\n",
    "        self.title=title\n",
    "        self.author=author\n",
    "        Book.all_books.append(self)\n",
    "    def get_books_by_author(self):\n",
    "        count=0\n",
    "        author=input(\"Search books by author: \")\n",
    "        for book_index in range(len(Book.all_books)-1):\n",
    "            if author==Book.all_books[book_index][\"author\"]:\n",
    "                count+=1\n",
    "                print(f'{count}. {Book.all_books[book_index][\"title\"]} by {Book.all_books[book_index][\"author\"]}')\n",
    "    def get_books_by_title(self):\n",
    "        count=0\n",
    "        title=input(\"Search for book with title: \")\n",
    "        for book_index in range(len(Book.all_books)-1):\n",
    "            if title==Book.all_books[book_index][\"title\"]:\n",
    "                count+=1\n",
    "                print(f'{count}. {Book.all_books[book_index][\"title\"]} by {Book.all_books[book_index][\"author\"]}')\n",
    "    def get_book_index(self,title):\n",
    "        for book_index in range(len(Book.all_books)-1):\n",
    "            if title==Book.all_books[book_index][\"title\"]:\n",
    "                return book_index\n",
    "        return -1\n",
    "    def add_review(self,title,review):\n",
    "        book_index=Book.get_book_index(title)\n",
    "        if book_index ==-1:\n",
    "            raise ValueError(\"Sorry you need to add this book in the library before adding a review to it! Thus this operation is aborted.\")\n",
    "        Book.all_books[book_index].review=review\n",
    "    def populate_books_list_from_csv():\n",
    "        with open('./books.csv', 'r') as file:\n",
    "            csv_reader = csv.reader(file)\n",
    "            data_list = []\n",
    "            for row in csv_reader:\n",
    "                data_list.append(row)\n",
    "    def save_books_list_to_csv():\n",
    "        with open(csv_file_path, 'r') as file:\n",
    "    csv_reader = csv.reader(file)\n",
    "    data_list = []\n",
    "    for row in csv_reader:\n",
    "        data_list.append(row)"
   ]
  },
  {
   "cell_type": "code",
   "execution_count": null,
   "metadata": {},
   "outputs": [],
   "source": [
    "def print_app_title()->None:\n",
    "    app_title=\"\"\"\n",
    "______                                      _   _      _  _                               ___  ___                                                           _   \n",
    "| ___ \\                                    | | | |    (_)| |                              |  \\/  |                                                          | |  \n",
    "| |_/ /___  _ __  ___   ___   _ __    __ _ | | | |     _ | |__   _ __  __ _  _ __  _   _  | .  . |  __ _  _ __    __ _   __ _   ___  _ __ ___    ___  _ __  | |_ \n",
    "|  __// _ \\| '__|/ __| / _ \\ | '_ \\  / _` || | | |    | || '_ \\ | '__|/ _` || '__|| | | | | |\\/| | / _` || '_ \\  / _` | / _` | / _ \\| '_ ` _ \\  / _ \\| '_ \\ | __|\n",
    "| |  |  __/| |   \\__ \\| (_) || | | || (_| || | | |____| || |_) || |  | (_| || |   | |_| | | |  | || (_| || | | || (_| || (_| ||  __/| | | | | ||  __/| | | || |_ \n",
    "\\_|   \\___||_|   |___/ \\___/ |_| |_| \\__,_||_| \\_____/|_||_.__/ |_|   \\__,_||_|    \\__, | \\_|  |_/ \\__,_||_| |_| \\__,_| \\__, | \\___||_| |_| |_| \\___||_| |_| \\__|\n",
    "                                                                                    __/ |                                __/ |                                   \n",
    "                                                                                   |___/                                |___/                                    \n",
    "\"\"\"\n",
    "    print(Fore.BLUE + app_title + Style.RESET_ALL)\n",
    "    print(Fore.LIGHTRED_EX + \"Version 1.0\"+ Style.RESET_ALL)\n",
    "# print_app_title()"
   ]
  },
  {
   "cell_type": "code",
   "execution_count": null,
   "metadata": {},
   "outputs": [],
   "source": [
    "def add_new_book_menu():\n",
    "    book_name=None\n",
    "    book_author=None\n",
    "    while book_name==None or book_name=='':\n",
    "        book_name=input(\"Name of the book: \")\n",
    "        if book_name=='':\n",
    "            print('Please enter a valid book name.')\n",
    "    while book_author==None or book_author=='':\n",
    "        book_author=input(\"Author of the book: \")\n",
    "        if book_author=='':\n",
    "            print('Please enter a valid book author name.')\n",
    "    Book.all_books.append(Book(book_name,book_author))\n",
    "    print(f'{book_name} for {book_author} was added to the list!')"
   ]
  },
  {
   "cell_type": "code",
   "execution_count": null,
   "metadata": {},
   "outputs": [],
   "source": [
    "def print_all_books():\n",
    "    count=0\n",
    "    for book in Book.all_books:\n",
    "        count+=1\n",
    "        print(f\"{count}. {book.title} by {book.author}\")"
   ]
  },
  {
   "cell_type": "code",
   "execution_count": null,
   "metadata": {},
   "outputs": [],
   "source": [
    "def add_review():\n",
    "    title=None\n",
    "    review=None\n",
    "    while title == None or title=='':\n",
    "        title=input(\"Title of the book you want to review: \")\n",
    "        if title=='':\n",
    "            print(\"Please enter a title!\")\n",
    "    book_index=Book.get_book_index(title)\n",
    "    if book_index==-1:\n",
    "        print(\"Title does not exist please enter a title of a book stored in the applications\")\n",
    "    else:\n",
    "        while review==None or review=='':\n",
    "            review=input(f'Enter your short review for {title}')\n",
    "            if review=='':\n",
    "                print(\"Please enter a valid review\")\n",
    "            else:\n",
    "                Book.add_review(title,review)"
   ]
  },
  {
   "cell_type": "code",
   "execution_count": null,
   "metadata": {},
   "outputs": [],
   "source": [
    "def search_for_book():\n",
    "    search_menu=\"\"\"\n",
    "    Please let us know how do you want to search for the book by entering the correspondent key:\n",
    "    a - to search for books by author.\n",
    "    t - to search for books by title.\n",
    "    \"\"\"\n",
    "    search_selection=None\n",
    "    while search_selection==None or search_selection=='':\n",
    "        search_selection=input(search_menu)\n",
    "        match search_selection:\n",
    "            case 'a':\n",
    "                Book.get_books_by_author()\n",
    "            case 't':\n",
    "                Book.get_books_by_title()\n",
    "            case _:\n",
    "                print(\"Please enter a valid input\")\n"
   ]
  },
  {
   "cell_type": "code",
   "execution_count": null,
   "metadata": {},
   "outputs": [],
   "source": [
    "def choice_main_menu():\n",
    "    choice=None\n",
    "    menu=\"\"\"\n",
    "    Select one of the following by pressing the corresponding key:\n",
    "    a - Add a new book.\n",
    "    l - List all books.\n",
    "    r - To review a book.\n",
    "    s - Search for a book by title or author.\n",
    "    q - Quit the application.\n",
    "    \"\"\"\n",
    "    while not choice:\n",
    "        choice=input(menu)\n",
    "        match choice:\n",
    "            case 'a':\n",
    "                add_new_book_menu()\n",
    "            case 'l':\n",
    "                print_all_books()\n",
    "            case 'r':\n",
    "                add_review()\n",
    "            case 's':\n",
    "                search_for_book()\n",
    "            case 'q':\n",
    "                Book.save_books_list_to_csv()\n",
    "                break\n",
    "            case _:\n",
    "                print(f\"{choice} is not a valid parameter please enter a valid choice\")\n",
    "                choice=None"
   ]
  }
 ],
 "metadata": {
  "kernelspec": {
   "display_name": "ga-env",
   "language": "python",
   "name": "python3"
  },
  "language_info": {
   "codemirror_mode": {
    "name": "ipython",
    "version": 3
   },
   "file_extension": ".py",
   "mimetype": "text/x-python",
   "name": "python",
   "nbconvert_exporter": "python",
   "pygments_lexer": "ipython3",
   "version": "3.11.11"
  }
 },
 "nbformat": 4,
 "nbformat_minor": 2
}
